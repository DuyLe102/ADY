{
  "nbformat": 4,
  "nbformat_minor": 0,
  "metadata": {
    "colab": {
      "provenance": []
    },
    "kernelspec": {
      "name": "python3",
      "display_name": "Python 3"
    },
    "language_info": {
      "name": "python"
    }
  },
  "cells": [
    {
      "cell_type": "markdown",
      "source": [
        "Exercise 2 - Create a markdown cell with the title of the notebook. (1 pt)"
      ],
      "metadata": {
        "id": "eJLahRrPnueX"
      }
    },
    {
      "cell_type": "markdown",
      "source": [
        "# Data Science Final Project"
      ],
      "metadata": {
        "id": "43X_O6hbpfKr"
      }
    },
    {
      "cell_type": "markdown",
      "source": [
        "Exercise 3 - Create a markdown cell for an introduction. (1 pt)"
      ],
      "metadata": {
        "id": "OnP_WnM6qpJh"
      }
    },
    {
      "cell_type": "markdown",
      "source": [
        "## Introduction\n",
        "This notebook is created as part of the final project. It demonstrates basic concepts in data science including languages, libraries, tools, simple calculations, and markdown formatting."
      ],
      "metadata": {
        "id": "SraThnkJokiO"
      }
    },
    {
      "cell_type": "markdown",
      "source": [
        "Exercise 4 - Create a markdown cell to list data science languages. (3 pts)"
      ],
      "metadata": {
        "id": "Tmuw42lTollX"
      }
    },
    {
      "cell_type": "markdown",
      "source": [
        "## Popular Data Science Languages\n",
        "- Python\n",
        "- R\n",
        "- SQL\n",
        "- Scala\n",
        "- Julia"
      ],
      "metadata": {
        "id": "rjp2u4jhqloF"
      }
    },
    {
      "cell_type": "markdown",
      "source": [
        "Exercise 5 - Create a markdown cell to list data science libraries. (3 pts)"
      ],
      "metadata": {
        "id": "YQVc7obqomi-"
      }
    },
    {
      "cell_type": "markdown",
      "source": [
        "## Popular Data Science Libraries\n",
        "- Pandas\n",
        "- NumPy\n",
        "- Scikit-learn\n",
        "- TensorFlow\n",
        "- Matplotlib"
      ],
      "metadata": {
        "id": "bZSdvlufq00y"
      }
    },
    {
      "cell_type": "markdown",
      "source": [
        "Exercise 6 - Create a markdown cell with a table of Data Science tools. (3 pts)"
      ],
      "metadata": {
        "id": "wTeccuDuonG5"
      }
    },
    {
      "cell_type": "markdown",
      "source": [
        "## Data Science Tools\n",
        "\n",
        "| Tool             | Category           | Description                          |\n",
        "|------------------|--------------------|--------------------------------------|\n",
        "| Jupyter Notebook | Interactive Notebook | Write code, visualize, and explain   |\n",
        "| RStudio          | IDE for R Language | Statistical computing & visualization |\n",
        "| Apache Spark     | Big Data Framework | Process large datasets               |\n",
        "| Tableau          | Visualization      | Create interactive dashboards        |\n",
        "| TensorFlow       | Machine Learning   | Build and train ML models            |\n"
      ],
      "metadata": {
        "id": "HmTbfkuZq6I9"
      }
    },
    {
      "cell_type": "markdown",
      "source": [
        "Exercise 7 - Create a markdown cell introducing arithmetic expression examples. (1 pt)"
      ],
      "metadata": {
        "id": "MKv_ZAJOq94s"
      }
    },
    {
      "cell_type": "markdown",
      "source": [
        "## Examples of Arithmetic Expressions\n",
        "Below is an example of multiplication and addition using Python."
      ],
      "metadata": {
        "id": "_4A6HjMQrE2U"
      }
    },
    {
      "cell_type": "markdown",
      "source": [
        "Exercise 8 - Create a code cell to multiply and add numbers. (2 pts)"
      ],
      "metadata": {
        "id": "s1MarPJprLOP"
      }
    },
    {
      "cell_type": "code",
      "source": [
        "# Multiply 5 by 4 and add 3\n",
        "result = (5 * 4) + 3\n",
        "result"
      ],
      "metadata": {
        "colab": {
          "base_uri": "https://localhost:8080/"
        },
        "id": "d2YDsJHJpANh",
        "outputId": "76fd93a2-b34b-4549-880f-1e823c41936a"
      },
      "execution_count": 1,
      "outputs": [
        {
          "output_type": "execute_result",
          "data": {
            "text/plain": [
              "23"
            ]
          },
          "metadata": {},
          "execution_count": 1
        }
      ]
    },
    {
      "cell_type": "markdown",
      "source": [
        "Exercise 9 - Create a code cell to convert minutes to hours. (2 pts)"
      ],
      "metadata": {
        "id": "5dHL82kvrPgI"
      }
    },
    {
      "cell_type": "code",
      "source": [
        "# Convert 200 minutes to hours\n",
        "minutes = 200\n",
        "hours = minutes / 60\n",
        "hours"
      ],
      "metadata": {
        "colab": {
          "base_uri": "https://localhost:8080/"
        },
        "id": "b1Fnaagnq40r",
        "outputId": "6303576b-3528-4f37-9f0c-dd41200b6ce9"
      },
      "execution_count": 2,
      "outputs": [
        {
          "output_type": "execute_result",
          "data": {
            "text/plain": [
              "3.3333333333333335"
            ]
          },
          "metadata": {},
          "execution_count": 2
        }
      ]
    },
    {
      "cell_type": "markdown",
      "source": [
        "Exercise 10 -Insert a markdown cell to list Objectives. (3 pts)"
      ],
      "metadata": {
        "id": "TSrzXtskpDgW"
      }
    },
    {
      "cell_type": "markdown",
      "source": [
        "## Objectives\n",
        "- List popular programming languages for Data Science\n",
        "- List common libraries used in Data Science\n",
        "- Demonstrate basic arithmetic operations in Python\n",
        "- Convert minutes to hours using Python\n",
        "- Practice sharing notebook on GitHub\n"
      ],
      "metadata": {
        "id": "qaMyptMGonil"
      }
    },
    {
      "cell_type": "markdown",
      "source": [
        "Exercise 11 - Create a markdown cell to indicate the Author’s name. (2 pts)"
      ],
      "metadata": {
        "id": "Egydk5ZnrZmP"
      }
    },
    {
      "cell_type": "markdown",
      "source": [
        "**Author:** Duy Le\n"
      ],
      "metadata": {
        "id": "6UG_o4CQra8g"
      }
    }
  ]
}
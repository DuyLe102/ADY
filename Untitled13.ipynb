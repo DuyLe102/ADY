{
  "nbformat": 4,
  "nbformat_minor": 0,
  "metadata": {
    "colab": {
      "provenance": []
    },
    "kernelspec": {
      "name": "python3",
      "display_name": "Python 3"
    },
    "language_info": {
      "name": "python"
    }
  },
  "cells": [
    {
      "cell_type": "code",
      "execution_count": null,
      "metadata": {
        "id": "QM6PwgY9nqeW"
      },
      "outputs": [],
      "source": []
    },
    {
      "cell_type": "markdown",
      "source": [
        "Exercise 2 - Create a markdown cell with the title of the notebook. (1 pt)"
      ],
      "metadata": {
        "id": "eJLahRrPnueX"
      }
    },
    {
      "cell_type": "markdown",
      "source": [
        "# Data Science Final Project"
      ],
      "metadata": {
        "id": "43X_O6hbpfKr"
      }
    },
    {
      "cell_type": "code",
      "source": [],
      "metadata": {
        "id": "g2qQpk7entY4"
      },
      "execution_count": null,
      "outputs": []
    },
    {
      "cell_type": "markdown",
      "source": [],
      "metadata": {
        "id": "SraThnkJokiO"
      }
    },
    {
      "cell_type": "code",
      "source": [],
      "metadata": {
        "id": "G7RLnFnnntgY"
      },
      "execution_count": null,
      "outputs": []
    },
    {
      "cell_type": "markdown",
      "source": [
        "Exercise 3 - Create a markdown cell for an introduction. (1 pt)"
      ],
      "metadata": {
        "id": "csBhZHPQolGz"
      }
    },
    {
      "cell_type": "code",
      "source": [],
      "metadata": {
        "id": "AOnCn6_wnti4"
      },
      "execution_count": null,
      "outputs": []
    },
    {
      "cell_type": "markdown",
      "source": [
        "Exercise 4 - Create a markdown cell to list data science languages. (3 pts)"
      ],
      "metadata": {
        "id": "Tmuw42lTollX"
      }
    },
    {
      "cell_type": "code",
      "source": [],
      "metadata": {
        "id": "elL1vU-ont07"
      },
      "execution_count": null,
      "outputs": []
    },
    {
      "cell_type": "markdown",
      "source": [
        "Exercise 5 - Create a markdown cell to list data science libraries. (3 pts)"
      ],
      "metadata": {
        "id": "YQVc7obqomi-"
      }
    },
    {
      "cell_type": "code",
      "source": [],
      "metadata": {
        "id": "fzQlJstgnt3U"
      },
      "execution_count": null,
      "outputs": []
    },
    {
      "cell_type": "markdown",
      "source": [
        "Exercise 6 - Create a markdown cell with a table of Data Science tools. (3 pts)"
      ],
      "metadata": {
        "id": "wTeccuDuonG5"
      }
    },
    {
      "cell_type": "code",
      "source": [],
      "metadata": {
        "id": "2jk-nNxQnt58"
      },
      "execution_count": null,
      "outputs": []
    },
    {
      "cell_type": "code",
      "source": [],
      "metadata": {
        "id": "d2YDsJHJpANh"
      },
      "execution_count": null,
      "outputs": []
    },
    {
      "cell_type": "markdown",
      "source": [
        "Exercise 9 - Create a code cell to convert minutes to hours. (2 pts)"
      ],
      "metadata": {
        "id": "8LK0cXBGpArV"
      }
    },
    {
      "cell_type": "markdown",
      "source": [],
      "metadata": {
        "id": "3SCAhB0MpCo0"
      }
    },
    {
      "cell_type": "markdown",
      "source": [
        "Exercise 10 -Insert a markdown cell to list Objectives. (3 pts)"
      ],
      "metadata": {
        "id": "TSrzXtskpDgW"
      }
    },
    {
      "cell_type": "markdown",
      "source": [],
      "metadata": {
        "id": "qaMyptMGonil"
      }
    }
  ]
}